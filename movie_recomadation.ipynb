{
 "cells": [
  {
   "cell_type": "code",
   "execution_count": 152,
   "id": "7f01bc9c",
   "metadata": {},
   "outputs": [],
   "source": [
    "import numpy as np\n",
    "import pandas as pd "
   ]
  },
  {
   "cell_type": "code",
   "execution_count": 153,
   "id": "f213c966",
   "metadata": {},
   "outputs": [],
   "source": [
    "movie = pd.read_csv('ml-32m\\\\movies.csv')\n",
    "movie_1 = pd.read_csv('ml-32m\\\\movies_1.csv')"
   ]
  },
  {
   "cell_type": "code",
   "execution_count": 154,
   "id": "d213c9bc",
   "metadata": {},
   "outputs": [],
   "source": [
    "# movie_1.head(3)"
   ]
  },
  {
   "cell_type": "code",
   "execution_count": 155,
   "id": "85a6ae9f",
   "metadata": {},
   "outputs": [
    {
     "data": {
      "text/html": [
       "<div>\n",
       "<style scoped>\n",
       "    .dataframe tbody tr th:only-of-type {\n",
       "        vertical-align: middle;\n",
       "    }\n",
       "\n",
       "    .dataframe tbody tr th {\n",
       "        vertical-align: top;\n",
       "    }\n",
       "\n",
       "    .dataframe thead th {\n",
       "        text-align: right;\n",
       "    }\n",
       "</style>\n",
       "<table border=\"1\" class=\"dataframe\">\n",
       "  <thead>\n",
       "    <tr style=\"text-align: right;\">\n",
       "      <th></th>\n",
       "      <th>movieId</th>\n",
       "      <th>title</th>\n",
       "      <th>genres</th>\n",
       "    </tr>\n",
       "  </thead>\n",
       "  <tbody>\n",
       "    <tr>\n",
       "      <th>0</th>\n",
       "      <td>1</td>\n",
       "      <td>Toy Story (1995)</td>\n",
       "      <td>Adventure|Animation|Children|Comedy|Fantasy</td>\n",
       "    </tr>\n",
       "    <tr>\n",
       "      <th>1</th>\n",
       "      <td>2</td>\n",
       "      <td>Jumanji (1995)</td>\n",
       "      <td>Adventure|Children|Fantasy</td>\n",
       "    </tr>\n",
       "    <tr>\n",
       "      <th>2</th>\n",
       "      <td>3</td>\n",
       "      <td>Grumpier Old Men (1995)</td>\n",
       "      <td>Comedy|Romance</td>\n",
       "    </tr>\n",
       "    <tr>\n",
       "      <th>3</th>\n",
       "      <td>4</td>\n",
       "      <td>Waiting to Exhale (1995)</td>\n",
       "      <td>Comedy|Drama|Romance</td>\n",
       "    </tr>\n",
       "    <tr>\n",
       "      <th>4</th>\n",
       "      <td>5</td>\n",
       "      <td>Father of the Bride Part II (1995)</td>\n",
       "      <td>Comedy</td>\n",
       "    </tr>\n",
       "  </tbody>\n",
       "</table>\n",
       "</div>"
      ],
      "text/plain": [
       "   movieId                               title  \\\n",
       "0        1                    Toy Story (1995)   \n",
       "1        2                      Jumanji (1995)   \n",
       "2        3             Grumpier Old Men (1995)   \n",
       "3        4            Waiting to Exhale (1995)   \n",
       "4        5  Father of the Bride Part II (1995)   \n",
       "\n",
       "                                        genres  \n",
       "0  Adventure|Animation|Children|Comedy|Fantasy  \n",
       "1                   Adventure|Children|Fantasy  \n",
       "2                               Comedy|Romance  \n",
       "3                         Comedy|Drama|Romance  \n",
       "4                                       Comedy  "
      ]
     },
     "execution_count": 155,
     "metadata": {},
     "output_type": "execute_result"
    }
   ],
   "source": [
    "movie.head()"
   ]
  },
  {
   "cell_type": "code",
   "execution_count": 156,
   "id": "3566312b",
   "metadata": {},
   "outputs": [
    {
     "data": {
      "text/plain": [
       "(87585, 3)"
      ]
     },
     "execution_count": 156,
     "metadata": {},
     "output_type": "execute_result"
    }
   ],
   "source": [
    "movie.shape"
   ]
  },
  {
   "cell_type": "code",
   "execution_count": 157,
   "id": "72d53917",
   "metadata": {},
   "outputs": [
    {
     "data": {
      "text/plain": [
       "np.int64(0)"
      ]
     },
     "execution_count": 157,
     "metadata": {},
     "output_type": "execute_result"
    }
   ],
   "source": [
    "movie.duplicated().sum()"
   ]
  },
  {
   "cell_type": "code",
   "execution_count": 158,
   "id": "ecf27cd2",
   "metadata": {},
   "outputs": [
    {
     "name": "stdout",
     "output_type": "stream",
     "text": [
      "203\n"
     ]
    }
   ],
   "source": [
    "print(movie.duplicated(subset=['title']).sum())"
   ]
  },
  {
   "cell_type": "code",
   "execution_count": 159,
   "id": "c1ff65ed",
   "metadata": {},
   "outputs": [],
   "source": [
    "movie = movie.drop_duplicates(subset=['title'])\n"
   ]
  },
  {
   "cell_type": "code",
   "execution_count": 160,
   "id": "a52c7afb",
   "metadata": {},
   "outputs": [
    {
     "data": {
      "text/plain": [
       "title\n",
       "Toy Story (1995)                      1\n",
       "Jumanji (1995)                        1\n",
       "Grumpier Old Men (1995)               1\n",
       "Waiting to Exhale (1995)              1\n",
       "Father of the Bride Part II (1995)    1\n",
       "                                     ..\n",
       "The Monroy Affaire (2022)             1\n",
       "Shelter in Solitude (2023)            1\n",
       "Orca (2023)                           1\n",
       "The Angry Breed (1968)                1\n",
       "Race to the Summit (2023)             1\n",
       "Name: count, Length: 87382, dtype: int64"
      ]
     },
     "execution_count": 160,
     "metadata": {},
     "output_type": "execute_result"
    }
   ],
   "source": [
    "movie['title'].value_counts()"
   ]
  },
  {
   "cell_type": "code",
   "execution_count": 161,
   "id": "42fb6c92",
   "metadata": {},
   "outputs": [],
   "source": [
    "movie['year'] = movie['title'].apply(lambda x : x[-5:-1])"
   ]
  },
  {
   "cell_type": "code",
   "execution_count": 162,
   "id": "3bf870cf",
   "metadata": {},
   "outputs": [],
   "source": [
    "movie['name'] = movie['title'].apply(lambda x : x[:-6].strip())"
   ]
  },
  {
   "cell_type": "code",
   "execution_count": 163,
   "id": "0e0c136c",
   "metadata": {},
   "outputs": [],
   "source": [
    "# movie = movie.merge(tags,on='movieId')"
   ]
  },
  {
   "cell_type": "code",
   "execution_count": 164,
   "id": "20894449",
   "metadata": {},
   "outputs": [
    {
     "data": {
      "text/html": [
       "<div>\n",
       "<style scoped>\n",
       "    .dataframe tbody tr th:only-of-type {\n",
       "        vertical-align: middle;\n",
       "    }\n",
       "\n",
       "    .dataframe tbody tr th {\n",
       "        vertical-align: top;\n",
       "    }\n",
       "\n",
       "    .dataframe thead th {\n",
       "        text-align: right;\n",
       "    }\n",
       "</style>\n",
       "<table border=\"1\" class=\"dataframe\">\n",
       "  <thead>\n",
       "    <tr style=\"text-align: right;\">\n",
       "      <th></th>\n",
       "      <th>movieId</th>\n",
       "      <th>title</th>\n",
       "      <th>genres</th>\n",
       "      <th>year</th>\n",
       "      <th>name</th>\n",
       "    </tr>\n",
       "  </thead>\n",
       "  <tbody>\n",
       "    <tr>\n",
       "      <th>0</th>\n",
       "      <td>1</td>\n",
       "      <td>Toy Story (1995)</td>\n",
       "      <td>Adventure|Animation|Children|Comedy|Fantasy</td>\n",
       "      <td>1995</td>\n",
       "      <td>Toy Story</td>\n",
       "    </tr>\n",
       "    <tr>\n",
       "      <th>1</th>\n",
       "      <td>2</td>\n",
       "      <td>Jumanji (1995)</td>\n",
       "      <td>Adventure|Children|Fantasy</td>\n",
       "      <td>1995</td>\n",
       "      <td>Jumanji</td>\n",
       "    </tr>\n",
       "  </tbody>\n",
       "</table>\n",
       "</div>"
      ],
      "text/plain": [
       "   movieId             title                                       genres  \\\n",
       "0        1  Toy Story (1995)  Adventure|Animation|Children|Comedy|Fantasy   \n",
       "1        2    Jumanji (1995)                   Adventure|Children|Fantasy   \n",
       "\n",
       "   year       name  \n",
       "0  1995  Toy Story  \n",
       "1  1995    Jumanji  "
      ]
     },
     "execution_count": 164,
     "metadata": {},
     "output_type": "execute_result"
    }
   ],
   "source": [
    "movie.head(2)"
   ]
  },
  {
   "cell_type": "code",
   "execution_count": 165,
   "id": "809d7572",
   "metadata": {},
   "outputs": [],
   "source": [
    "movie['new_tag'] = movie['name'] + movie['genres'][0].replace('|',' ')  + movie['year'].astype('str')"
   ]
  },
  {
   "cell_type": "code",
   "execution_count": 166,
   "id": "223242c6",
   "metadata": {},
   "outputs": [],
   "source": [
    "movie['new_tag'] = movie['new_tag'].str.lower()"
   ]
  },
  {
   "cell_type": "code",
   "execution_count": 167,
   "id": "41f98d79",
   "metadata": {},
   "outputs": [],
   "source": [
    "movie =movie[movie['year'].between('2020','2023')]"
   ]
  },
  {
   "cell_type": "code",
   "execution_count": 168,
   "id": "f57c0213",
   "metadata": {},
   "outputs": [
    {
     "data": {
      "text/plain": [
       "(7951, 6)"
      ]
     },
     "execution_count": 168,
     "metadata": {},
     "output_type": "execute_result"
    }
   ],
   "source": [
    "movie.shape"
   ]
  },
  {
   "cell_type": "code",
   "execution_count": 169,
   "id": "92a5b648",
   "metadata": {},
   "outputs": [
    {
     "data": {
      "text/html": [
       "<div>\n",
       "<style scoped>\n",
       "    .dataframe tbody tr th:only-of-type {\n",
       "        vertical-align: middle;\n",
       "    }\n",
       "\n",
       "    .dataframe tbody tr th {\n",
       "        vertical-align: top;\n",
       "    }\n",
       "\n",
       "    .dataframe thead th {\n",
       "        text-align: right;\n",
       "    }\n",
       "</style>\n",
       "<table border=\"1\" class=\"dataframe\">\n",
       "  <thead>\n",
       "    <tr style=\"text-align: right;\">\n",
       "      <th></th>\n",
       "      <th>movieId</th>\n",
       "      <th>title</th>\n",
       "      <th>genres</th>\n",
       "      <th>year</th>\n",
       "      <th>name</th>\n",
       "      <th>new_tag</th>\n",
       "    </tr>\n",
       "  </thead>\n",
       "  <tbody>\n",
       "    <tr>\n",
       "      <th>64069</th>\n",
       "      <td>209311</td>\n",
       "      <td>Waves (2020)</td>\n",
       "      <td>Drama|Romance</td>\n",
       "      <td>2020</td>\n",
       "      <td>Waves</td>\n",
       "      <td>wavesadventure animation children comedy fanta...</td>\n",
       "    </tr>\n",
       "    <tr>\n",
       "      <th>64491</th>\n",
       "      <td>210455</td>\n",
       "      <td>Gretel &amp; Hansel (2020)</td>\n",
       "      <td>Fantasy|Horror|Thriller</td>\n",
       "      <td>2020</td>\n",
       "      <td>Gretel &amp; Hansel</td>\n",
       "      <td>gretel &amp; hanseladventure animation children co...</td>\n",
       "    </tr>\n",
       "    <tr>\n",
       "      <th>64497</th>\n",
       "      <td>210469</td>\n",
       "      <td>Like a Boss (2020)</td>\n",
       "      <td>Comedy</td>\n",
       "      <td>2020</td>\n",
       "      <td>Like a Boss</td>\n",
       "      <td>like a bossadventure animation children comedy...</td>\n",
       "    </tr>\n",
       "  </tbody>\n",
       "</table>\n",
       "</div>"
      ],
      "text/plain": [
       "       movieId                   title                   genres  year  \\\n",
       "64069   209311            Waves (2020)            Drama|Romance  2020   \n",
       "64491   210455  Gretel & Hansel (2020)  Fantasy|Horror|Thriller  2020   \n",
       "64497   210469      Like a Boss (2020)                   Comedy  2020   \n",
       "\n",
       "                  name                                            new_tag  \n",
       "64069            Waves  wavesadventure animation children comedy fanta...  \n",
       "64491  Gretel & Hansel  gretel & hanseladventure animation children co...  \n",
       "64497      Like a Boss  like a bossadventure animation children comedy...  "
      ]
     },
     "execution_count": 169,
     "metadata": {},
     "output_type": "execute_result"
    }
   ],
   "source": [
    "movie.head(3)"
   ]
  },
  {
   "cell_type": "code",
   "execution_count": 170,
   "id": "5d2ad15e",
   "metadata": {},
   "outputs": [
    {
     "data": {
      "text/plain": [
       "year\n",
       "2020    2619\n",
       "2021    2301\n",
       "2022    2079\n",
       "2023     952\n",
       "Name: count, dtype: int64"
      ]
     },
     "execution_count": 170,
     "metadata": {},
     "output_type": "execute_result"
    }
   ],
   "source": [
    "movie['year'].value_counts()"
   ]
  },
  {
   "cell_type": "code",
   "execution_count": 171,
   "id": "911fc483",
   "metadata": {},
   "outputs": [
    {
     "data": {
      "text/plain": [
       "movieId    0\n",
       "title      0\n",
       "genres     0\n",
       "year       0\n",
       "name       0\n",
       "new_tag    0\n",
       "dtype: int64"
      ]
     },
     "execution_count": 171,
     "metadata": {},
     "output_type": "execute_result"
    }
   ],
   "source": [
    "movie.isna().sum()"
   ]
  },
  {
   "cell_type": "code",
   "execution_count": 172,
   "id": "cb912f27",
   "metadata": {},
   "outputs": [],
   "source": [
    "movie = movie.dropna()"
   ]
  },
  {
   "cell_type": "code",
   "execution_count": 173,
   "id": "41abd5e0",
   "metadata": {},
   "outputs": [],
   "source": [
    "movie = movie.reset_index()"
   ]
  },
  {
   "cell_type": "code",
   "execution_count": 174,
   "id": "1f4080f7",
   "metadata": {},
   "outputs": [],
   "source": [
    "from sklearn.feature_extraction.text import CountVectorizer\n",
    "\n",
    "cv = CountVectorizer(max_features=3000,stop_words='english')"
   ]
  },
  {
   "cell_type": "code",
   "execution_count": 175,
   "id": "d3132fe7",
   "metadata": {},
   "outputs": [],
   "source": [
    "vector = cv.fit_transform(movie['new_tag']).toarray()"
   ]
  },
  {
   "cell_type": "code",
   "execution_count": 176,
   "id": "dbafc9ad",
   "metadata": {},
   "outputs": [
    {
     "data": {
      "text/plain": [
       "array([0, 0, 0, ..., 0, 0, 0], shape=(3000,))"
      ]
     },
     "execution_count": 176,
     "metadata": {},
     "output_type": "execute_result"
    }
   ],
   "source": [
    "vector[0]"
   ]
  },
  {
   "cell_type": "code",
   "execution_count": 177,
   "id": "d62a3ad2",
   "metadata": {},
   "outputs": [
    {
     "data": {
      "text/plain": [
       "array(['000', '0adventure', '10', ..., 'орлёнкаadventure', 'জন', 'নর'],\n",
       "      shape=(3000,), dtype=object)"
      ]
     },
     "execution_count": 177,
     "metadata": {},
     "output_type": "execute_result"
    }
   ],
   "source": [
    "cv.get_feature_names_out()"
   ]
  },
  {
   "cell_type": "code",
   "execution_count": 178,
   "id": "bf755578",
   "metadata": {},
   "outputs": [],
   "source": [
    "from sklearn.metrics.pairwise import cosine_similarity"
   ]
  },
  {
   "cell_type": "code",
   "execution_count": 179,
   "id": "3731cac6",
   "metadata": {},
   "outputs": [
    {
     "data": {
      "text/plain": [
       "(7951, 3000)"
      ]
     },
     "execution_count": 179,
     "metadata": {},
     "output_type": "execute_result"
    }
   ],
   "source": [
    "vector.shape"
   ]
  },
  {
   "cell_type": "code",
   "execution_count": 180,
   "id": "5b68cbd5",
   "metadata": {},
   "outputs": [],
   "source": [
    "similar_movies = cosine_similarity(vector)"
   ]
  },
  {
   "cell_type": "code",
   "execution_count": 181,
   "id": "0c7b0373",
   "metadata": {},
   "outputs": [
    {
     "data": {
      "text/plain": [
       "array([1.        , 1.        , 0.81649658, ..., 0.61237244, 0.75      ,\n",
       "       0.61237244], shape=(7951,))"
      ]
     },
     "execution_count": 181,
     "metadata": {},
     "output_type": "execute_result"
    }
   ],
   "source": [
    "similar_movies[0]"
   ]
  },
  {
   "cell_type": "code",
   "execution_count": 182,
   "id": "8ec359eb",
   "metadata": {},
   "outputs": [
    {
     "data": {
      "text/html": [
       "<div>\n",
       "<style scoped>\n",
       "    .dataframe tbody tr th:only-of-type {\n",
       "        vertical-align: middle;\n",
       "    }\n",
       "\n",
       "    .dataframe tbody tr th {\n",
       "        vertical-align: top;\n",
       "    }\n",
       "\n",
       "    .dataframe thead th {\n",
       "        text-align: right;\n",
       "    }\n",
       "</style>\n",
       "<table border=\"1\" class=\"dataframe\">\n",
       "  <thead>\n",
       "    <tr style=\"text-align: right;\">\n",
       "      <th></th>\n",
       "      <th>index</th>\n",
       "      <th>movieId</th>\n",
       "      <th>title</th>\n",
       "      <th>genres</th>\n",
       "      <th>year</th>\n",
       "      <th>name</th>\n",
       "      <th>new_tag</th>\n",
       "    </tr>\n",
       "  </thead>\n",
       "  <tbody>\n",
       "    <tr>\n",
       "      <th>0</th>\n",
       "      <td>64069</td>\n",
       "      <td>209311</td>\n",
       "      <td>Waves (2020)</td>\n",
       "      <td>Drama|Romance</td>\n",
       "      <td>2020</td>\n",
       "      <td>Waves</td>\n",
       "      <td>wavesadventure animation children comedy fanta...</td>\n",
       "    </tr>\n",
       "    <tr>\n",
       "      <th>1</th>\n",
       "      <td>64491</td>\n",
       "      <td>210455</td>\n",
       "      <td>Gretel &amp; Hansel (2020)</td>\n",
       "      <td>Fantasy|Horror|Thriller</td>\n",
       "      <td>2020</td>\n",
       "      <td>Gretel &amp; Hansel</td>\n",
       "      <td>gretel &amp; hanseladventure animation children co...</td>\n",
       "    </tr>\n",
       "    <tr>\n",
       "      <th>2</th>\n",
       "      <td>64497</td>\n",
       "      <td>210469</td>\n",
       "      <td>Like a Boss (2020)</td>\n",
       "      <td>Comedy</td>\n",
       "      <td>2020</td>\n",
       "      <td>Like a Boss</td>\n",
       "      <td>like a bossadventure animation children comedy...</td>\n",
       "    </tr>\n",
       "  </tbody>\n",
       "</table>\n",
       "</div>"
      ],
      "text/plain": [
       "   index  movieId                   title                   genres  year  \\\n",
       "0  64069   209311            Waves (2020)            Drama|Romance  2020   \n",
       "1  64491   210455  Gretel & Hansel (2020)  Fantasy|Horror|Thriller  2020   \n",
       "2  64497   210469      Like a Boss (2020)                   Comedy  2020   \n",
       "\n",
       "              name                                            new_tag  \n",
       "0            Waves  wavesadventure animation children comedy fanta...  \n",
       "1  Gretel & Hansel  gretel & hanseladventure animation children co...  \n",
       "2      Like a Boss  like a bossadventure animation children comedy...  "
      ]
     },
     "execution_count": 182,
     "metadata": {},
     "output_type": "execute_result"
    }
   ],
   "source": [
    "movie.head(3)"
   ]
  },
  {
   "cell_type": "code",
   "execution_count": 183,
   "id": "b1a536c1",
   "metadata": {},
   "outputs": [
    {
     "data": {
      "text/plain": [
       "'The Accursed'"
      ]
     },
     "execution_count": 183,
     "metadata": {},
     "output_type": "execute_result"
    }
   ],
   "source": [
    "movie_name = movie['name'].value_counts().index.str.strip().to_list()\n",
    "movie_name[2]"
   ]
  },
  {
   "cell_type": "code",
   "execution_count": 184,
   "id": "db522e83",
   "metadata": {},
   "outputs": [],
   "source": [
    "movie_index = int(movie[movie['name'] == 'The Accursed'].index[0])"
   ]
  },
  {
   "cell_type": "code",
   "execution_count": 185,
   "id": "a61fa2f4",
   "metadata": {},
   "outputs": [],
   "source": [
    "similarity_scores = list(enumerate(similar_movies[movie_index]))\n",
    "\n",
    "similarity_scores = sorted(similarity_scores, key=lambda x: x[1], reverse=True)\n",
    "\n",
    "similarity_scores = [(i, float(score)) for i, score in similarity_scores]\n",
    "\n",
    "top_n = similarity_scores[1:6]  \n"
   ]
  },
  {
   "cell_type": "code",
   "execution_count": 186,
   "id": "102cd1aa",
   "metadata": {},
   "outputs": [
    {
     "name": "stdout",
     "output_type": "stream",
     "text": [
      "1469\n",
      "The Marksman\n",
      "1502\n",
      "Playhouse\n",
      "1534\n",
      "Palmer\n",
      "1569\n",
      "The Courier\n",
      "1677\n",
      "The Mauritanian\n"
     ]
    }
   ],
   "source": [
    "for i in top_n:\n",
    "    print(i[0])\n",
    "    print(movie.iloc[i[0]]['name'])"
   ]
  },
  {
   "cell_type": "code",
   "execution_count": 187,
   "id": "7223a8ad",
   "metadata": {},
   "outputs": [],
   "source": [
    "def recommandation_movie(movie_name):\n",
    "\n",
    "    movie_index = int(movie[movie['name'] == movie_name].index[0])\n",
    "    \n",
    "    similarity_scores = list(enumerate(similar_movies[movie_index]))\n",
    "\n",
    "    similarity_scores = sorted(similarity_scores, key=lambda x: x[1], reverse=True)\n",
    "\n",
    "    similarity_scores = [(i, float(score)) for i, score in similarity_scores]\n",
    "\n",
    "    top_n = similarity_scores[1:6] \n",
    "\n",
    "    for i in top_n:\n",
    "        #print(i[0])\n",
    "        print(movie.iloc[i[0]]['name']) \n",
    "\n",
    "    #return movie.iloc[i[0]]['name']\n"
   ]
  },
  {
   "cell_type": "code",
   "execution_count": 190,
   "id": "933be496",
   "metadata": {},
   "outputs": [
    {
     "data": {
      "text/plain": [
       "'White Noise'"
      ]
     },
     "execution_count": 190,
     "metadata": {},
     "output_type": "execute_result"
    }
   ],
   "source": [
    "movie_name[23]"
   ]
  },
  {
   "cell_type": "code",
   "execution_count": 192,
   "id": "ff07be65",
   "metadata": {},
   "outputs": [
    {
     "name": "stdout",
     "output_type": "stream",
     "text": [
      "White Riot\n",
      "The White Tiger\n",
      "White Eye\n",
      "White on White\n",
      "White Elephant\n"
     ]
    }
   ],
   "source": [
    "recommandation_movie(movie_name[23])"
   ]
  },
  {
   "cell_type": "code",
   "execution_count": null,
   "id": "5a3d4b3a",
   "metadata": {},
   "outputs": [],
   "source": []
  }
 ],
 "metadata": {
  "kernelspec": {
   "display_name": "Python 3",
   "language": "python",
   "name": "python3"
  },
  "language_info": {
   "codemirror_mode": {
    "name": "ipython",
    "version": 3
   },
   "file_extension": ".py",
   "mimetype": "text/x-python",
   "name": "python",
   "nbconvert_exporter": "python",
   "pygments_lexer": "ipython3",
   "version": "3.12.0"
  }
 },
 "nbformat": 4,
 "nbformat_minor": 5
}
