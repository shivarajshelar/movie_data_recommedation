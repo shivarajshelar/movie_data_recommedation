{
 "cells": [
  {
   "cell_type": "code",
   "execution_count": 293,
   "id": "7f01bc9c",
   "metadata": {},
   "outputs": [],
   "source": [
    "import numpy as np\n",
    "import pandas as pd "
   ]
  },
  {
   "cell_type": "code",
   "execution_count": 294,
   "id": "f213c966",
   "metadata": {},
   "outputs": [],
   "source": [
    "df = pd.read_csv('imdb_movies.csv')"
   ]
  },
  {
   "cell_type": "code",
   "execution_count": 295,
   "id": "d213c9bc",
   "metadata": {},
   "outputs": [
    {
     "data": {
      "text/html": [
       "<div>\n",
       "<style scoped>\n",
       "    .dataframe tbody tr th:only-of-type {\n",
       "        vertical-align: middle;\n",
       "    }\n",
       "\n",
       "    .dataframe tbody tr th {\n",
       "        vertical-align: top;\n",
       "    }\n",
       "\n",
       "    .dataframe thead th {\n",
       "        text-align: right;\n",
       "    }\n",
       "</style>\n",
       "<table border=\"1\" class=\"dataframe\">\n",
       "  <thead>\n",
       "    <tr style=\"text-align: right;\">\n",
       "      <th></th>\n",
       "      <th>names</th>\n",
       "      <th>date_x</th>\n",
       "      <th>score</th>\n",
       "      <th>genre</th>\n",
       "      <th>overview</th>\n",
       "      <th>crew</th>\n",
       "      <th>orig_title</th>\n",
       "      <th>status</th>\n",
       "      <th>orig_lang</th>\n",
       "      <th>budget_x</th>\n",
       "      <th>revenue</th>\n",
       "      <th>country</th>\n",
       "    </tr>\n",
       "  </thead>\n",
       "  <tbody>\n",
       "    <tr>\n",
       "      <th>0</th>\n",
       "      <td>Creed III</td>\n",
       "      <td>03/02/2023</td>\n",
       "      <td>73.0</td>\n",
       "      <td>Drama, Action</td>\n",
       "      <td>After dominating the boxing world, Adonis Cree...</td>\n",
       "      <td>Michael B. Jordan, Adonis Creed, Tessa Thompso...</td>\n",
       "      <td>Creed III</td>\n",
       "      <td>Released</td>\n",
       "      <td>English</td>\n",
       "      <td>75000000.0</td>\n",
       "      <td>2.716167e+08</td>\n",
       "      <td>AU</td>\n",
       "    </tr>\n",
       "    <tr>\n",
       "      <th>1</th>\n",
       "      <td>Avatar: The Way of Water</td>\n",
       "      <td>12/15/2022</td>\n",
       "      <td>78.0</td>\n",
       "      <td>Science Fiction, Adventure, Action</td>\n",
       "      <td>Set more than a decade after the events of the...</td>\n",
       "      <td>Sam Worthington, Jake Sully, Zoe Saldaña, Neyt...</td>\n",
       "      <td>Avatar: The Way of Water</td>\n",
       "      <td>Released</td>\n",
       "      <td>English</td>\n",
       "      <td>460000000.0</td>\n",
       "      <td>2.316795e+09</td>\n",
       "      <td>AU</td>\n",
       "    </tr>\n",
       "    <tr>\n",
       "      <th>2</th>\n",
       "      <td>The Super Mario Bros. Movie</td>\n",
       "      <td>04/05/2023</td>\n",
       "      <td>76.0</td>\n",
       "      <td>Animation, Adventure, Family, Fantasy, Comedy</td>\n",
       "      <td>While working underground to fix a water main,...</td>\n",
       "      <td>Chris Pratt, Mario (voice), Anya Taylor-Joy, P...</td>\n",
       "      <td>The Super Mario Bros. Movie</td>\n",
       "      <td>Released</td>\n",
       "      <td>English</td>\n",
       "      <td>100000000.0</td>\n",
       "      <td>7.244590e+08</td>\n",
       "      <td>AU</td>\n",
       "    </tr>\n",
       "  </tbody>\n",
       "</table>\n",
       "</div>"
      ],
      "text/plain": [
       "                         names       date_x  score  \\\n",
       "0                    Creed III  03/02/2023    73.0   \n",
       "1     Avatar: The Way of Water  12/15/2022    78.0   \n",
       "2  The Super Mario Bros. Movie  04/05/2023    76.0   \n",
       "\n",
       "                                           genre  \\\n",
       "0                                  Drama, Action   \n",
       "1             Science Fiction, Adventure, Action   \n",
       "2  Animation, Adventure, Family, Fantasy, Comedy   \n",
       "\n",
       "                                            overview  \\\n",
       "0  After dominating the boxing world, Adonis Cree...   \n",
       "1  Set more than a decade after the events of the...   \n",
       "2  While working underground to fix a water main,...   \n",
       "\n",
       "                                                crew  \\\n",
       "0  Michael B. Jordan, Adonis Creed, Tessa Thompso...   \n",
       "1  Sam Worthington, Jake Sully, Zoe Saldaña, Neyt...   \n",
       "2  Chris Pratt, Mario (voice), Anya Taylor-Joy, P...   \n",
       "\n",
       "                    orig_title     status orig_lang     budget_x  \\\n",
       "0                    Creed III   Released   English   75000000.0   \n",
       "1     Avatar: The Way of Water   Released   English  460000000.0   \n",
       "2  The Super Mario Bros. Movie   Released   English  100000000.0   \n",
       "\n",
       "        revenue country  \n",
       "0  2.716167e+08      AU  \n",
       "1  2.316795e+09      AU  \n",
       "2  7.244590e+08      AU  "
      ]
     },
     "execution_count": 295,
     "metadata": {},
     "output_type": "execute_result"
    }
   ],
   "source": [
    "df.head(3)"
   ]
  },
  {
   "cell_type": "code",
   "execution_count": 296,
   "id": "85a6ae9f",
   "metadata": {},
   "outputs": [
    {
     "name": "stdout",
     "output_type": "stream",
     "text": [
      "<class 'pandas.core.frame.DataFrame'>\n",
      "RangeIndex: 10178 entries, 0 to 10177\n",
      "Data columns (total 12 columns):\n",
      " #   Column      Non-Null Count  Dtype  \n",
      "---  ------      --------------  -----  \n",
      " 0   names       10178 non-null  object \n",
      " 1   date_x      10178 non-null  object \n",
      " 2   score       10178 non-null  float64\n",
      " 3   genre       10093 non-null  object \n",
      " 4   overview    10178 non-null  object \n",
      " 5   crew        10122 non-null  object \n",
      " 6   orig_title  10178 non-null  object \n",
      " 7   status      10178 non-null  object \n",
      " 8   orig_lang   10178 non-null  object \n",
      " 9   budget_x    10178 non-null  float64\n",
      " 10  revenue     10178 non-null  float64\n",
      " 11  country     10178 non-null  object \n",
      "dtypes: float64(3), object(9)\n",
      "memory usage: 954.3+ KB\n"
     ]
    }
   ],
   "source": [
    "df.info()"
   ]
  },
  {
   "cell_type": "code",
   "execution_count": 297,
   "id": "3566312b",
   "metadata": {},
   "outputs": [
    {
     "data": {
      "text/plain": [
       "(10178, 12)"
      ]
     },
     "execution_count": 297,
     "metadata": {},
     "output_type": "execute_result"
    }
   ],
   "source": [
    "df.shape"
   ]
  },
  {
   "cell_type": "code",
   "execution_count": 298,
   "id": "49fe6560",
   "metadata": {},
   "outputs": [
    {
     "data": {
      "text/plain": [
       "names          0\n",
       "date_x         0\n",
       "score          0\n",
       "genre         85\n",
       "overview       0\n",
       "crew          56\n",
       "orig_title     0\n",
       "status         0\n",
       "orig_lang      0\n",
       "budget_x       0\n",
       "revenue        0\n",
       "country        0\n",
       "dtype: int64"
      ]
     },
     "execution_count": 298,
     "metadata": {},
     "output_type": "execute_result"
    }
   ],
   "source": [
    "df.isna().sum()"
   ]
  },
  {
   "cell_type": "code",
   "execution_count": 299,
   "id": "72d53917",
   "metadata": {},
   "outputs": [
    {
     "data": {
      "text/plain": [
       "np.int64(0)"
      ]
     },
     "execution_count": 299,
     "metadata": {},
     "output_type": "execute_result"
    }
   ],
   "source": [
    "df.duplicated().sum()"
   ]
  },
  {
   "cell_type": "code",
   "execution_count": 300,
   "id": "fa8a135a",
   "metadata": {},
   "outputs": [
    {
     "data": {
      "text/plain": [
       "orig_title\n",
       "Pinocchio                     12\n",
       "King Kong                      9\n",
       "Halloween                      9\n",
       "The Ten Commandments           6\n",
       "Alice in Wonderland            6\n",
       "                              ..\n",
       "The Lost King                  1\n",
       " 黃飛鴻'92之龍行天下                   1\n",
       "Honey, We Shrunk Ourselves     1\n",
       "Miss Violence                  1\n",
       "Avatar: The Way of Water       1\n",
       "Name: count, Length: 9736, dtype: int64"
      ]
     },
     "execution_count": 300,
     "metadata": {},
     "output_type": "execute_result"
    }
   ],
   "source": [
    "df['orig_title'].value_counts()"
   ]
  },
  {
   "cell_type": "code",
   "execution_count": 301,
   "id": "8fa1cf7c",
   "metadata": {},
   "outputs": [
    {
     "data": {
      "text/html": [
       "<div>\n",
       "<style scoped>\n",
       "    .dataframe tbody tr th:only-of-type {\n",
       "        vertical-align: middle;\n",
       "    }\n",
       "\n",
       "    .dataframe tbody tr th {\n",
       "        vertical-align: top;\n",
       "    }\n",
       "\n",
       "    .dataframe thead th {\n",
       "        text-align: right;\n",
       "    }\n",
       "</style>\n",
       "<table border=\"1\" class=\"dataframe\">\n",
       "  <thead>\n",
       "    <tr style=\"text-align: right;\">\n",
       "      <th></th>\n",
       "      <th>names</th>\n",
       "      <th>date_x</th>\n",
       "      <th>score</th>\n",
       "      <th>genre</th>\n",
       "      <th>overview</th>\n",
       "      <th>crew</th>\n",
       "      <th>orig_title</th>\n",
       "      <th>status</th>\n",
       "      <th>orig_lang</th>\n",
       "      <th>budget_x</th>\n",
       "      <th>revenue</th>\n",
       "      <th>country</th>\n",
       "    </tr>\n",
       "  </thead>\n",
       "  <tbody>\n",
       "    <tr>\n",
       "      <th>1914</th>\n",
       "      <td>King Kong</td>\n",
       "      <td>12/14/2005</td>\n",
       "      <td>69.0</td>\n",
       "      <td>Adventure, Drama, Action</td>\n",
       "      <td>In 1933 New York, an overly ambitious movie pr...</td>\n",
       "      <td>Naomi Watts, Ann Darrow, Jack Black, Carl Denh...</td>\n",
       "      <td>King Kong</td>\n",
       "      <td>Released</td>\n",
       "      <td>English</td>\n",
       "      <td>207000000.0</td>\n",
       "      <td>550517357.0</td>\n",
       "      <td>AU</td>\n",
       "    </tr>\n",
       "  </tbody>\n",
       "</table>\n",
       "</div>"
      ],
      "text/plain": [
       "          names       date_x  score                     genre  \\\n",
       "1914  King Kong  12/14/2005    69.0  Adventure, Drama, Action   \n",
       "\n",
       "                                               overview  \\\n",
       "1914  In 1933 New York, an overly ambitious movie pr...   \n",
       "\n",
       "                                                   crew orig_title     status  \\\n",
       "1914  Naomi Watts, Ann Darrow, Jack Black, Carl Denh...  King Kong   Released   \n",
       "\n",
       "     orig_lang     budget_x      revenue country  \n",
       "1914   English  207000000.0  550517357.0      AU  "
      ]
     },
     "execution_count": 301,
     "metadata": {},
     "output_type": "execute_result"
    }
   ],
   "source": [
    "df[df['orig_title'] == 'King Kong'].head(1)\n",
    "#['country'].value_counts()"
   ]
  },
  {
   "cell_type": "code",
   "execution_count": 302,
   "id": "9ba7df66",
   "metadata": {},
   "outputs": [
    {
     "data": {
      "text/plain": [
       "orig_lang\n",
       "English               7417\n",
       "Japanese               714\n",
       "Spanish, Castilian     397\n",
       "Name: count, dtype: int64"
      ]
     },
     "execution_count": 302,
     "metadata": {},
     "output_type": "execute_result"
    }
   ],
   "source": [
    "df['orig_lang'].value_counts().head(3)"
   ]
  },
  {
   "cell_type": "code",
   "execution_count": 303,
   "id": "ecf27cd2",
   "metadata": {},
   "outputs": [
    {
     "name": "stdout",
     "output_type": "stream",
     "text": [
      "442\n"
     ]
    }
   ],
   "source": [
    "print(df.duplicated(subset=['orig_title']).sum())"
   ]
  },
  {
   "cell_type": "code",
   "execution_count": 304,
   "id": "c1ff65ed",
   "metadata": {},
   "outputs": [],
   "source": [
    "movie = df.drop_duplicates(subset=['orig_title'])\n",
    "movie = movie.copy()"
   ]
  },
  {
   "cell_type": "code",
   "execution_count": 305,
   "id": "a52c7afb",
   "metadata": {},
   "outputs": [
    {
     "data": {
      "text/plain": [
       "orig_title\n",
       "Creed III                   1\n",
       "Avatar: The Way of Water    1\n",
       "Name: count, dtype: int64"
      ]
     },
     "execution_count": 305,
     "metadata": {},
     "output_type": "execute_result"
    }
   ],
   "source": [
    "movie['orig_title'].value_counts().head(2)"
   ]
  },
  {
   "cell_type": "code",
   "execution_count": 306,
   "id": "8e3f4840",
   "metadata": {},
   "outputs": [
    {
     "data": {
      "text/html": [
       "<div>\n",
       "<style scoped>\n",
       "    .dataframe tbody tr th:only-of-type {\n",
       "        vertical-align: middle;\n",
       "    }\n",
       "\n",
       "    .dataframe tbody tr th {\n",
       "        vertical-align: top;\n",
       "    }\n",
       "\n",
       "    .dataframe thead th {\n",
       "        text-align: right;\n",
       "    }\n",
       "</style>\n",
       "<table border=\"1\" class=\"dataframe\">\n",
       "  <thead>\n",
       "    <tr style=\"text-align: right;\">\n",
       "      <th></th>\n",
       "      <th>names</th>\n",
       "      <th>date_x</th>\n",
       "      <th>score</th>\n",
       "      <th>genre</th>\n",
       "      <th>overview</th>\n",
       "      <th>crew</th>\n",
       "      <th>orig_title</th>\n",
       "      <th>status</th>\n",
       "      <th>orig_lang</th>\n",
       "      <th>budget_x</th>\n",
       "      <th>revenue</th>\n",
       "      <th>country</th>\n",
       "    </tr>\n",
       "  </thead>\n",
       "  <tbody>\n",
       "    <tr>\n",
       "      <th>0</th>\n",
       "      <td>Creed III</td>\n",
       "      <td>03/02/2023</td>\n",
       "      <td>73.0</td>\n",
       "      <td>Drama, Action</td>\n",
       "      <td>After dominating the boxing world, Adonis Cree...</td>\n",
       "      <td>Michael B. Jordan, Adonis Creed, Tessa Thompso...</td>\n",
       "      <td>Creed III</td>\n",
       "      <td>Released</td>\n",
       "      <td>English</td>\n",
       "      <td>75000000.0</td>\n",
       "      <td>2.716167e+08</td>\n",
       "      <td>AU</td>\n",
       "    </tr>\n",
       "    <tr>\n",
       "      <th>1</th>\n",
       "      <td>Avatar: The Way of Water</td>\n",
       "      <td>12/15/2022</td>\n",
       "      <td>78.0</td>\n",
       "      <td>Science Fiction, Adventure, Action</td>\n",
       "      <td>Set more than a decade after the events of the...</td>\n",
       "      <td>Sam Worthington, Jake Sully, Zoe Saldaña, Neyt...</td>\n",
       "      <td>Avatar: The Way of Water</td>\n",
       "      <td>Released</td>\n",
       "      <td>English</td>\n",
       "      <td>460000000.0</td>\n",
       "      <td>2.316795e+09</td>\n",
       "      <td>AU</td>\n",
       "    </tr>\n",
       "  </tbody>\n",
       "</table>\n",
       "</div>"
      ],
      "text/plain": [
       "                      names       date_x  score  \\\n",
       "0                 Creed III  03/02/2023    73.0   \n",
       "1  Avatar: The Way of Water  12/15/2022    78.0   \n",
       "\n",
       "                                genre  \\\n",
       "0                       Drama, Action   \n",
       "1  Science Fiction, Adventure, Action   \n",
       "\n",
       "                                            overview  \\\n",
       "0  After dominating the boxing world, Adonis Cree...   \n",
       "1  Set more than a decade after the events of the...   \n",
       "\n",
       "                                                crew  \\\n",
       "0  Michael B. Jordan, Adonis Creed, Tessa Thompso...   \n",
       "1  Sam Worthington, Jake Sully, Zoe Saldaña, Neyt...   \n",
       "\n",
       "                 orig_title     status orig_lang     budget_x       revenue  \\\n",
       "0                 Creed III   Released   English   75000000.0  2.716167e+08   \n",
       "1  Avatar: The Way of Water   Released   English  460000000.0  2.316795e+09   \n",
       "\n",
       "  country  \n",
       "0      AU  \n",
       "1      AU  "
      ]
     },
     "execution_count": 306,
     "metadata": {},
     "output_type": "execute_result"
    }
   ],
   "source": [
    "movie.head(2)"
   ]
  },
  {
   "cell_type": "code",
   "execution_count": 307,
   "id": "e703df1c",
   "metadata": {},
   "outputs": [
    {
     "data": {
      "text/plain": [
       "2023"
      ]
     },
     "execution_count": 307,
     "metadata": {},
     "output_type": "execute_result"
    }
   ],
   "source": [
    "int(movie['date_x'][0][6:])"
   ]
  },
  {
   "cell_type": "code",
   "execution_count": 308,
   "id": "e62f48af",
   "metadata": {},
   "outputs": [],
   "source": [
    "movie['year'] = movie['date_x'].apply(lambda s: int(s[6:]))"
   ]
  },
  {
   "cell_type": "code",
   "execution_count": 316,
   "id": "5ff0d710",
   "metadata": {},
   "outputs": [],
   "source": [
    "#movie['desc']  = f\"{movie['orig_title']}  {movie['overview']}  {movie['genre']}  {movie['crew']}\"\n",
    "\n",
    "movie['desc']  = movie['names'] + movie['overview'] + movie['genre']  + movie['crew']\n",
    "movie['desc'] = movie['desc'].fillna('')\n",
    "\n",
    "movie['desc'] = movie['desc'].apply(lambda x : \" \".join(x.split()))\n",
    "\n",
    "movie['desc'] = movie['desc'].str.lower()"
   ]
  },
  {
   "cell_type": "code",
   "execution_count": 317,
   "id": "20894449",
   "metadata": {},
   "outputs": [
    {
     "data": {
      "text/html": [
       "<div>\n",
       "<style scoped>\n",
       "    .dataframe tbody tr th:only-of-type {\n",
       "        vertical-align: middle;\n",
       "    }\n",
       "\n",
       "    .dataframe tbody tr th {\n",
       "        vertical-align: top;\n",
       "    }\n",
       "\n",
       "    .dataframe thead th {\n",
       "        text-align: right;\n",
       "    }\n",
       "</style>\n",
       "<table border=\"1\" class=\"dataframe\">\n",
       "  <thead>\n",
       "    <tr style=\"text-align: right;\">\n",
       "      <th></th>\n",
       "      <th>names</th>\n",
       "      <th>date_x</th>\n",
       "      <th>score</th>\n",
       "      <th>genre</th>\n",
       "      <th>overview</th>\n",
       "      <th>crew</th>\n",
       "      <th>orig_title</th>\n",
       "      <th>status</th>\n",
       "      <th>orig_lang</th>\n",
       "      <th>budget_x</th>\n",
       "      <th>revenue</th>\n",
       "      <th>country</th>\n",
       "      <th>year</th>\n",
       "      <th>desc</th>\n",
       "    </tr>\n",
       "  </thead>\n",
       "  <tbody>\n",
       "    <tr>\n",
       "      <th>0</th>\n",
       "      <td>Creed III</td>\n",
       "      <td>03/02/2023</td>\n",
       "      <td>73.0</td>\n",
       "      <td>Drama, Action</td>\n",
       "      <td>After dominating the boxing world, Adonis Cree...</td>\n",
       "      <td>Michael B. Jordan, Adonis Creed, Tessa Thompso...</td>\n",
       "      <td>Creed III</td>\n",
       "      <td>Released</td>\n",
       "      <td>English</td>\n",
       "      <td>75000000.0</td>\n",
       "      <td>2.716167e+08</td>\n",
       "      <td>AU</td>\n",
       "      <td>2023</td>\n",
       "      <td>creed iiiafter dominating the boxing world, ad...</td>\n",
       "    </tr>\n",
       "    <tr>\n",
       "      <th>1</th>\n",
       "      <td>Avatar: The Way of Water</td>\n",
       "      <td>12/15/2022</td>\n",
       "      <td>78.0</td>\n",
       "      <td>Science Fiction, Adventure, Action</td>\n",
       "      <td>Set more than a decade after the events of the...</td>\n",
       "      <td>Sam Worthington, Jake Sully, Zoe Saldaña, Neyt...</td>\n",
       "      <td>Avatar: The Way of Water</td>\n",
       "      <td>Released</td>\n",
       "      <td>English</td>\n",
       "      <td>460000000.0</td>\n",
       "      <td>2.316795e+09</td>\n",
       "      <td>AU</td>\n",
       "      <td>2022</td>\n",
       "      <td>avatar: the way of waterset more than a decade...</td>\n",
       "    </tr>\n",
       "  </tbody>\n",
       "</table>\n",
       "</div>"
      ],
      "text/plain": [
       "                      names       date_x  score  \\\n",
       "0                 Creed III  03/02/2023    73.0   \n",
       "1  Avatar: The Way of Water  12/15/2022    78.0   \n",
       "\n",
       "                                genre  \\\n",
       "0                       Drama, Action   \n",
       "1  Science Fiction, Adventure, Action   \n",
       "\n",
       "                                            overview  \\\n",
       "0  After dominating the boxing world, Adonis Cree...   \n",
       "1  Set more than a decade after the events of the...   \n",
       "\n",
       "                                                crew  \\\n",
       "0  Michael B. Jordan, Adonis Creed, Tessa Thompso...   \n",
       "1  Sam Worthington, Jake Sully, Zoe Saldaña, Neyt...   \n",
       "\n",
       "                 orig_title     status orig_lang     budget_x       revenue  \\\n",
       "0                 Creed III   Released   English   75000000.0  2.716167e+08   \n",
       "1  Avatar: The Way of Water   Released   English  460000000.0  2.316795e+09   \n",
       "\n",
       "  country  year                                               desc  \n",
       "0      AU  2023  creed iiiafter dominating the boxing world, ad...  \n",
       "1      AU  2022  avatar: the way of waterset more than a decade...  "
      ]
     },
     "execution_count": 317,
     "metadata": {},
     "output_type": "execute_result"
    }
   ],
   "source": [
    "movie.head(2)"
   ]
  },
  {
   "cell_type": "code",
   "execution_count": 318,
   "id": "6c4877ae",
   "metadata": {},
   "outputs": [
    {
     "data": {
      "text/plain": [
       "year\n",
       "2022    947\n",
       "2021    613\n",
       "2018    454\n",
       "2019    447\n",
       "2020    439\n",
       "2017    418\n",
       "2023    398\n",
       "2016    375\n",
       "2015    335\n",
       "2014    328\n",
       "Name: count, dtype: int64"
      ]
     },
     "execution_count": 318,
     "metadata": {},
     "output_type": "execute_result"
    }
   ],
   "source": [
    "movie['year'].value_counts().head(10)"
   ]
  },
  {
   "cell_type": "code",
   "execution_count": 319,
   "id": "41f98d79",
   "metadata": {},
   "outputs": [],
   "source": [
    "movie =movie[movie['year'].between(2014,2022)]"
   ]
  },
  {
   "cell_type": "code",
   "execution_count": 320,
   "id": "f57c0213",
   "metadata": {},
   "outputs": [
    {
     "data": {
      "text/plain": [
       "(4356, 14)"
      ]
     },
     "execution_count": 320,
     "metadata": {},
     "output_type": "execute_result"
    }
   ],
   "source": [
    "movie.shape"
   ]
  },
  {
   "cell_type": "code",
   "execution_count": 321,
   "id": "911fc483",
   "metadata": {},
   "outputs": [
    {
     "data": {
      "text/plain": [
       "names          0\n",
       "date_x         0\n",
       "score          0\n",
       "genre         21\n",
       "overview       0\n",
       "crew          32\n",
       "orig_title     0\n",
       "status         0\n",
       "orig_lang      0\n",
       "budget_x       0\n",
       "revenue        0\n",
       "country        0\n",
       "year           0\n",
       "desc           0\n",
       "dtype: int64"
      ]
     },
     "execution_count": 321,
     "metadata": {},
     "output_type": "execute_result"
    }
   ],
   "source": [
    "movie.isna().sum()"
   ]
  },
  {
   "cell_type": "code",
   "execution_count": 342,
   "id": "cb912f27",
   "metadata": {},
   "outputs": [],
   "source": [
    "movie = movie.dropna()\n",
    "movie = movie.reset_index()"
   ]
  },
  {
   "cell_type": "code",
   "execution_count": 343,
   "id": "1ff094a8",
   "metadata": {},
   "outputs": [],
   "source": [
    "columns = ['names','year','desc','genre']"
   ]
  },
  {
   "cell_type": "code",
   "execution_count": 344,
   "id": "c9f12e22",
   "metadata": {},
   "outputs": [],
   "source": [
    "movie = movie[columns].copy()\n",
    "movie.to_csv('movie.csv')"
   ]
  },
  {
   "cell_type": "code",
   "execution_count": 345,
   "id": "1f4080f7",
   "metadata": {},
   "outputs": [],
   "source": [
    "from sklearn.feature_extraction.text import CountVectorizer\n",
    "\n",
    "cv = CountVectorizer(max_features=3000,stop_words='english')"
   ]
  },
  {
   "cell_type": "code",
   "execution_count": 346,
   "id": "d3132fe7",
   "metadata": {},
   "outputs": [],
   "source": [
    "vector = cv.fit_transform(movie['desc']).toarray()"
   ]
  },
  {
   "cell_type": "code",
   "execution_count": 347,
   "id": "dbafc9ad",
   "metadata": {},
   "outputs": [
    {
     "data": {
      "text/plain": [
       "array([0, 0, 0, ..., 0, 0, 0], shape=(3000,))"
      ]
     },
     "execution_count": 347,
     "metadata": {},
     "output_type": "execute_result"
    }
   ],
   "source": [
    "vector[0]"
   ]
  },
  {
   "cell_type": "code",
   "execution_count": 348,
   "id": "d62a3ad2",
   "metadata": {},
   "outputs": [
    {
     "data": {
      "text/plain": [
       "array(['000', '10', '11', ..., 'zombie', 'zombies', 'óscar'],\n",
       "      shape=(3000,), dtype=object)"
      ]
     },
     "execution_count": 348,
     "metadata": {},
     "output_type": "execute_result"
    }
   ],
   "source": [
    "cv.get_feature_names_out()"
   ]
  },
  {
   "cell_type": "code",
   "execution_count": 349,
   "id": "bf755578",
   "metadata": {},
   "outputs": [],
   "source": [
    "from sklearn.metrics.pairwise import cosine_similarity"
   ]
  },
  {
   "cell_type": "code",
   "execution_count": 350,
   "id": "3731cac6",
   "metadata": {},
   "outputs": [
    {
     "data": {
      "text/plain": [
       "(4307, 3000)"
      ]
     },
     "execution_count": 350,
     "metadata": {},
     "output_type": "execute_result"
    }
   ],
   "source": [
    "vector.shape"
   ]
  },
  {
   "cell_type": "code",
   "execution_count": 351,
   "id": "5b68cbd5",
   "metadata": {},
   "outputs": [],
   "source": [
    "similar_movies = cosine_similarity(vector)"
   ]
  },
  {
   "cell_type": "code",
   "execution_count": 352,
   "id": "2e9f016f",
   "metadata": {},
   "outputs": [
    {
     "data": {
      "text/plain": [
       "(4307, 4307)"
      ]
     },
     "execution_count": 352,
     "metadata": {},
     "output_type": "execute_result"
    }
   ],
   "source": [
    "similar_movies.shape"
   ]
  },
  {
   "cell_type": "code",
   "execution_count": 353,
   "id": "0c7b0373",
   "metadata": {},
   "outputs": [
    {
     "data": {
      "text/plain": [
       "array([1.        , 0.04424221, 0.02823912, ..., 0.01433848, 0.        ,\n",
       "       0.01898658], shape=(4307,))"
      ]
     },
     "execution_count": 353,
     "metadata": {},
     "output_type": "execute_result"
    }
   ],
   "source": [
    "similar_movies[0]"
   ]
  },
  {
   "cell_type": "code",
   "execution_count": 354,
   "id": "8ec359eb",
   "metadata": {},
   "outputs": [
    {
     "data": {
      "text/html": [
       "<div>\n",
       "<style scoped>\n",
       "    .dataframe tbody tr th:only-of-type {\n",
       "        vertical-align: middle;\n",
       "    }\n",
       "\n",
       "    .dataframe tbody tr th {\n",
       "        vertical-align: top;\n",
       "    }\n",
       "\n",
       "    .dataframe thead th {\n",
       "        text-align: right;\n",
       "    }\n",
       "</style>\n",
       "<table border=\"1\" class=\"dataframe\">\n",
       "  <thead>\n",
       "    <tr style=\"text-align: right;\">\n",
       "      <th></th>\n",
       "      <th>names</th>\n",
       "      <th>year</th>\n",
       "      <th>desc</th>\n",
       "      <th>genre</th>\n",
       "    </tr>\n",
       "  </thead>\n",
       "  <tbody>\n",
       "    <tr>\n",
       "      <th>0</th>\n",
       "      <td>Avatar: The Way of Water</td>\n",
       "      <td>2022</td>\n",
       "      <td>avatar: the way of waterset more than a decade...</td>\n",
       "      <td>Science Fiction, Adventure, Action</td>\n",
       "    </tr>\n",
       "    <tr>\n",
       "      <th>1</th>\n",
       "      <td>Puss in Boots: The Last Wish</td>\n",
       "      <td>2022</td>\n",
       "      <td>puss in boots: the last wishpuss in boots disc...</td>\n",
       "      <td>Animation, Family, Fantasy, Adventure, Comedy</td>\n",
       "    </tr>\n",
       "    <tr>\n",
       "      <th>2</th>\n",
       "      <td>Attack on Titan</td>\n",
       "      <td>2022</td>\n",
       "      <td>attack on titanas viable water is depleted on ...</td>\n",
       "      <td>Action, Science Fiction</td>\n",
       "    </tr>\n",
       "  </tbody>\n",
       "</table>\n",
       "</div>"
      ],
      "text/plain": [
       "                          names  year  \\\n",
       "0      Avatar: The Way of Water  2022   \n",
       "1  Puss in Boots: The Last Wish  2022   \n",
       "2               Attack on Titan  2022   \n",
       "\n",
       "                                                desc  \\\n",
       "0  avatar: the way of waterset more than a decade...   \n",
       "1  puss in boots: the last wishpuss in boots disc...   \n",
       "2  attack on titanas viable water is depleted on ...   \n",
       "\n",
       "                                           genre  \n",
       "0             Science Fiction, Adventure, Action  \n",
       "1  Animation, Family, Fantasy, Adventure, Comedy  \n",
       "2                        Action, Science Fiction  "
      ]
     },
     "execution_count": 354,
     "metadata": {},
     "output_type": "execute_result"
    }
   ],
   "source": [
    "movie.head(3)"
   ]
  },
  {
   "cell_type": "code",
   "execution_count": 355,
   "id": "b1a536c1",
   "metadata": {},
   "outputs": [
    {
     "data": {
      "text/plain": [
       "'Prey'"
      ]
     },
     "execution_count": 355,
     "metadata": {},
     "output_type": "execute_result"
    }
   ],
   "source": [
    "movie_name = movie['names'].value_counts().index.str.strip().to_list()\n",
    "movie_name[5]"
   ]
  },
  {
   "cell_type": "code",
   "execution_count": 356,
   "id": "db522e83",
   "metadata": {},
   "outputs": [],
   "source": [
    "movie_index = int(movie[movie['names'] == 'Prey'].index[0])"
   ]
  },
  {
   "cell_type": "code",
   "execution_count": 357,
   "id": "a61fa2f4",
   "metadata": {},
   "outputs": [],
   "source": [
    "similarity_scores = list(enumerate(similar_movies[movie_index]))\n",
    "\n",
    "similarity_scores = sorted(similarity_scores, key=lambda x: x[1], reverse=True)\n",
    "\n",
    "similarity_scores = [(i, float(score)) for i, score in similarity_scores]\n",
    "\n",
    "top_n = similarity_scores[1:6]  \n"
   ]
  },
  {
   "cell_type": "code",
   "execution_count": 358,
   "id": "102cd1aa",
   "metadata": {},
   "outputs": [
    {
     "name": "stdout",
     "output_type": "stream",
     "text": [
      "Movie id -> 2036 Movie Name -> Grudge\n",
      "Movie id -> 3678 Movie Name -> Alien Warfare\n",
      "Movie id -> 2619 Movie Name -> Alien Outpost\n",
      "Movie id -> 2453 Movie Name -> The Awakener\n",
      "Movie id -> 3341 Movie Name -> In the Blood\n"
     ]
    }
   ],
   "source": [
    "for i in top_n:\n",
    "    #print(i[0])\n",
    "    print('Movie id ->' , i[0] , 'Movie Name ->', movie.iloc[i[0]]['names'])"
   ]
  },
  {
   "cell_type": "code",
   "execution_count": 488,
   "id": "cdeae57c",
   "metadata": {},
   "outputs": [],
   "source": [
    "from urllib.parse import quote\n",
    "import requests, re\n",
    "from bs4 import BeautifulSoup\n",
    "\n",
    "def wiki_poster(movie):\n",
    "\n",
    "    title = movie.replace(\" \", \"_\")\n",
    "    title = quote(title)\n",
    "    url = f\"https://en.wikipedia.org/wiki/{title}\"\n",
    "\n",
    "    \n",
    "    headers = {\"User-Agent\": \"Mozilla/5.0\"}\n",
    "    html = requests.get(url, headers=headers).text\n",
    "\n",
    "\n",
    "    soup = BeautifulSoup(html, \"html.parser\")\n",
    "\n",
    "    infobox = soup.find(\"table\", {\"class\": \"infobox\"})\n",
    "\n",
    "    img = infobox.find(\"img\") if infobox else None\n",
    "    no_image = \"https://upload.wikimedia.org/wikipedia/commons/1/14/No_Image_Available.jpg\"\n",
    "\n",
    "    return \"https:\" + img[\"src\"] if img else no_image\n"
   ]
  },
  {
   "cell_type": "code",
   "execution_count": 489,
   "id": "330036c1",
   "metadata": {},
   "outputs": [],
   "source": [
    "index = 4230\n",
    "name = movie_name[index]\n",
    "year = movie[movie['names']==name]['year']\n",
    "#name, year\n",
    "year = int(year.values[0])"
   ]
  },
  {
   "cell_type": "code",
   "execution_count": 490,
   "id": "60b043b6",
   "metadata": {},
   "outputs": [
    {
     "name": "stdout",
     "output_type": "stream",
     "text": [
      "Gangnam Daughter-in-law 2019\n"
     ]
    }
   ],
   "source": [
    "print(name ,year)"
   ]
  },
  {
   "cell_type": "code",
   "execution_count": 491,
   "id": "9fed86f9",
   "metadata": {},
   "outputs": [
    {
     "data": {
      "text/html": [
       "<div>\n",
       "<style scoped>\n",
       "    .dataframe tbody tr th:only-of-type {\n",
       "        vertical-align: middle;\n",
       "    }\n",
       "\n",
       "    .dataframe tbody tr th {\n",
       "        vertical-align: top;\n",
       "    }\n",
       "\n",
       "    .dataframe thead th {\n",
       "        text-align: right;\n",
       "    }\n",
       "</style>\n",
       "<table border=\"1\" class=\"dataframe\">\n",
       "  <thead>\n",
       "    <tr style=\"text-align: right;\">\n",
       "      <th></th>\n",
       "      <th>names</th>\n",
       "      <th>year</th>\n",
       "      <th>desc</th>\n",
       "      <th>genre</th>\n",
       "    </tr>\n",
       "  </thead>\n",
       "  <tbody>\n",
       "    <tr>\n",
       "      <th>22</th>\n",
       "      <td>Troll</td>\n",
       "      <td>2022</td>\n",
       "      <td>trolldeep inside the mountain of dovre, someth...</td>\n",
       "      <td>Fantasy, Action, Adventure, Thriller</td>\n",
       "    </tr>\n",
       "  </tbody>\n",
       "</table>\n",
       "</div>"
      ],
      "text/plain": [
       "    names  year                                               desc  \\\n",
       "22  Troll  2022  trolldeep inside the mountain of dovre, someth...   \n",
       "\n",
       "                                   genre  \n",
       "22  Fantasy, Action, Adventure, Thriller  "
      ]
     },
     "execution_count": 491,
     "metadata": {},
     "output_type": "execute_result"
    }
   ],
   "source": [
    "movie[movie['names'] == 'Troll']"
   ]
  },
  {
   "cell_type": "code",
   "execution_count": 493,
   "id": "9ffb0a44",
   "metadata": {},
   "outputs": [
    {
     "data": {
      "text/plain": [
       "'https://upload.wikimedia.org/wikipedia/commons/1/14/No_Image_Available.jpg'"
      ]
     },
     "execution_count": 493,
     "metadata": {},
     "output_type": "execute_result"
    }
   ],
   "source": [
    "wiki_poster('Troll')"
   ]
  },
  {
   "cell_type": "code",
   "execution_count": 494,
   "id": "7223a8ad",
   "metadata": {},
   "outputs": [],
   "source": [
    "def recommandation_movie(movie_name,k):\n",
    "\n",
    "    movie_index = int(movie[movie['names'] == movie_name].index[0])\n",
    "    \n",
    "    similarity_scores = list(enumerate(similar_movies[movie_index]))\n",
    "\n",
    "    similarity_scores = sorted(similarity_scores, key=lambda x: x[1], reverse=True)\n",
    "\n",
    "    similarity_scores = [(i, float(score)) for i, score in similarity_scores]\n",
    "\n",
    "    top_n = similarity_scores[1:k+1] \n",
    "\n",
    "    recommendations = [movie.iloc[i[0]]['names'] for i in top_n]\n",
    "    genre = [movie.iloc[i[0]]['genre'] for i in top_n]\n",
    "    \n",
    "    poster = [[wiki_poster(i),i] for i in recommendations]\n",
    "\n",
    "    #df = pd.DataFrame({'recommandation_movie':recommendations , 'genre':genre , 'poster':poster } )\n",
    "    return poster \n"
   ]
  },
  {
   "cell_type": "code",
   "execution_count": 498,
   "id": "933be496",
   "metadata": {},
   "outputs": [
    {
     "data": {
      "text/plain": [
       "[['https://upload.wikimedia.org/wikipedia/commons/1/14/No_Image_Available.jpg',\n",
       "  \"My Student's Mom\"],\n",
       " ['https://upload.wikimedia.org/wikipedia/commons/1/14/No_Image_Available.jpg',\n",
       "  \"18 Year Old Seungha's Easy Piece of Cake\"],\n",
       " ['https://upload.wikimedia.org/wikipedia/commons/1/14/No_Image_Available.jpg',\n",
       "  \"Mom's Friend 2020\"],\n",
       " ['https://upload.wikimedia.org/wikipedia/commons/1/14/No_Image_Available.jpg',\n",
       "  'Young Sister-In-Law 2']]"
      ]
     },
     "execution_count": 498,
     "metadata": {},
     "output_type": "execute_result"
    }
   ],
   "source": [
    "index = 0\n",
    "movie_name[index]\n",
    "recommandation_movie(name,4)\n",
    "\n"
   ]
  },
  {
   "cell_type": "code",
   "execution_count": 428,
   "id": "d437680e",
   "metadata": {},
   "outputs": [],
   "source": [
    "## Model save\n",
    "import joblib\n",
    "\n",
    "save_ml = joblib.dump(similar_movies,'similar_movies.pkl')\n"
   ]
  },
  {
   "cell_type": "markdown",
   "id": "473e39d2",
   "metadata": {},
   "source": [
    "## Gradio App"
   ]
  },
  {
   "cell_type": "code",
   "execution_count": 429,
   "id": "771a2a4f",
   "metadata": {},
   "outputs": [],
   "source": [
    "import gradio as gr"
   ]
  },
  {
   "cell_type": "code",
   "execution_count": 430,
   "id": "0454420e",
   "metadata": {},
   "outputs": [],
   "source": [
    "theme = gr.themes.Glass(\n",
    "    primary_hue=\"red\",\n",
    "    neutral_hue=\"indigo\"\n",
    ").set(\n",
    "    body_background_fill_dark=\"#000000\", \n",
    "    body_text_color_dark=\"#e5e7eb\"        \n",
    ")"
   ]
  },
  {
   "cell_type": "code",
   "execution_count": 431,
   "id": "9b0e5369",
   "metadata": {},
   "outputs": [
    {
     "name": "stdout",
     "output_type": "stream",
     "text": [
      "* Running on local URL:  http://127.0.0.1:7879\n",
      "* To create a public link, set `share=True` in `launch()`.\n"
     ]
    },
    {
     "data": {
      "text/html": [
       "<div><iframe src=\"http://127.0.0.1:7879/\" width=\"100%\" height=\"500\" allow=\"autoplay; camera; microphone; clipboard-read; clipboard-write;\" frameborder=\"0\" allowfullscreen></iframe></div>"
      ],
      "text/plain": [
       "<IPython.core.display.HTML object>"
      ]
     },
     "metadata": {},
     "output_type": "display_data"
    },
    {
     "data": {
      "text/plain": []
     },
     "execution_count": 431,
     "metadata": {},
     "output_type": "execute_result"
    }
   ],
   "source": [
    "with gr.Blocks(theme=theme, title=\"Movie Recommender\") as demo:\n",
    "    gr.Markdown(\"## Movie Recommender\")\n",
    "    inp = gr.Dropdown(movie_name, label=\"Pick a movie\",value=movie_name[0] if movie_name else None)\n",
    "    k = gr.Slider(1, 5, value=5, label=\"Number of recommendations\")\n",
    "    btn = gr.Button(\"Recommend\")\n",
    "    #out = gr.List(label=\"Recommended Movies\")\n",
    "    #out = gr.Dataframe(headers=[\"Movie\",'genres'], label=\"Recommended Movies\")\n",
    "    \n",
    "    #gallery = gr.Gallery(label=\"Poster\")\n",
    "    gallery = gr.Gallery(label=\"Posters\", show_label=True,rows=2, columns=3, height=\"auto\", object_fit=\"contain\")\n",
    "\n",
    "    btn.click(recommandation_movie, inputs=[inp, k], outputs=[gallery])\n",
    "\n",
    "demo.launch()"
   ]
  },
  {
   "cell_type": "code",
   "execution_count": null,
   "id": "2e980353",
   "metadata": {},
   "outputs": [],
   "source": []
  }
 ],
 "metadata": {
  "kernelspec": {
   "display_name": "Python 3",
   "language": "python",
   "name": "python3"
  },
  "language_info": {
   "codemirror_mode": {
    "name": "ipython",
    "version": 3
   },
   "file_extension": ".py",
   "mimetype": "text/x-python",
   "name": "python",
   "nbconvert_exporter": "python",
   "pygments_lexer": "ipython3",
   "version": "3.12.0"
  }
 },
 "nbformat": 4,
 "nbformat_minor": 5
}
